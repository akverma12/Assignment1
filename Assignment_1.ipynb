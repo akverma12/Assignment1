{
 "cells": [
  {
   "cell_type": "markdown",
   "id": "edfdefae",
   "metadata": {},
   "source": [
    "#### # Q1. Explain with an example each when to use a for loop and a while loop."
   ]
  },
  {
   "cell_type": "code",
   "execution_count": null,
   "id": "cc7e6523",
   "metadata": {},
   "outputs": [],
   "source": [
    "For Loop:\n",
    "A for loop is typically used when you know the number of iterations in advance or when you need to iterate over a sequence of elements, such as a list or an array."
   ]
  },
  {
   "cell_type": "code",
   "execution_count": null,
   "id": "ea28b0c1",
   "metadata": {},
   "outputs": [],
   "source": [
    "Example: Calculating the sum of numbers from 1 to 5 using a for loop in Python."
   ]
  },
  {
   "cell_type": "code",
   "execution_count": 9,
   "id": "24ce6e40",
   "metadata": {},
   "outputs": [
    {
     "name": "stdout",
     "output_type": "stream",
     "text": [
      "15\n"
     ]
    }
   ],
   "source": [
    "sum = 0\n",
    "for i in range(1, 6):\n",
    "    sum += i\n",
    "\n",
    "print(sum)\n"
   ]
  },
  {
   "cell_type": "code",
   "execution_count": 14,
   "id": "886af7bf",
   "metadata": {},
   "outputs": [
    {
     "name": "stdout",
     "output_type": "stream",
     "text": [
      "Enter no.5\n",
      "Factorial of entered no is = 120\n"
     ]
    }
   ],
   "source": [
    "# While Loop: A while loop is typically used when you don't know the exact number of iterations in advance and want to continue iterating until a certain condition is met.\n",
    "num = int(input(\"Enter no.\"))\n",
    "factorial = 1\n",
    "\n",
    "while num > 0:\n",
    "    factorial *= num\n",
    "    num -= 1\n",
    "\n",
    "print(\"Factorial of entered no is =\", factorial)\n"
   ]
  },
  {
   "cell_type": "markdown",
   "id": "a627bf1b",
   "metadata": {},
   "source": [
    "### # Q2. Write a python program to print the sum and product of the first 10 natural numbers using for and while loop."
   ]
  },
  {
   "cell_type": "code",
   "execution_count": 1,
   "id": "7ecbf192",
   "metadata": {},
   "outputs": [
    {
     "name": "stdout",
     "output_type": "stream",
     "text": [
      "Sum: 55\n",
      "Product: 3628800\n"
     ]
    }
   ],
   "source": [
    "# Calculate the sum of the first 10 natural numbers using a for loop\n",
    "sum = 0\n",
    "for i in range(1, 11):\n",
    "    sum += i\n",
    "\n",
    "# Calculate the product of the first 10 natural numbers using a for loop\n",
    "product = 1\n",
    "for i in range(1, 11):\n",
    "    product *= i\n",
    "\n",
    "# Print the sum and product\n",
    "print(\"Sum:\", sum)\n",
    "print(\"Product:\", product)\n"
   ]
  },
  {
   "cell_type": "code",
   "execution_count": 2,
   "id": "20eff5ea",
   "metadata": {},
   "outputs": [
    {
     "name": "stdout",
     "output_type": "stream",
     "text": [
      "Sum: 55\n",
      "Product: 3628800\n"
     ]
    }
   ],
   "source": [
    "# Calculate the sum of the first 10 natural numbers using a while loop\n",
    "sum = 0\n",
    "i = 1\n",
    "while i <= 10:\n",
    "    sum += i\n",
    "    i += 1\n",
    "\n",
    "# Calculate the product of the first 10 natural numbers using a while loop\n",
    "product = 1\n",
    "i = 1\n",
    "while i <= 10:\n",
    "    product *= i\n",
    "    i += 1\n",
    "\n",
    "print(\"Sum:\", sum)\n",
    "print(\"Product:\", product)\n"
   ]
  },
  {
   "cell_type": "markdown",
   "id": "3814b287",
   "metadata": {},
   "source": [
    "##### Q3. Create a python program to compute the electricity bill for a household. "
   ]
  },
  {
   "cell_type": "code",
   "execution_count": 5,
   "id": "5a71e23e",
   "metadata": {},
   "outputs": [
    {
     "name": "stdout",
     "output_type": "stream",
     "text": [
      "Enter the number of units consumed: 310\n",
      "Electricity Bill: Rs 2250.0\n"
     ]
    }
   ],
   "source": [
    "units = int(input(\"Enter the number of units consumed: \"))\n",
    "\n",
    "total_bill = 0\n",
    "\n",
    "if units <= 100:\n",
    "    total_bill = units * 4.5\n",
    "elif units <= 200:\n",
    "    total_bill = 100 * 4.5 + (units - 100) * 6\n",
    "elif units <= 300:\n",
    "    total_bill = 100 * 4.5 + 100 * 6 + (units - 200) * 10\n",
    "else:\n",
    "    total_bill = 100 * 4.5 + 100 * 6 + 100 * 10 + (units - 300) * 20\n",
    "\n",
    "print(\"Electricity Bill: Rs\", total_bill)\n"
   ]
  },
  {
   "cell_type": "markdown",
   "id": "2e9881c0",
   "metadata": {},
   "source": [
    "###### Q4. Create a list of numbers from 1 to 100. Use for loop and while loop to calculate the cube of each \n",
    "number and if the cube of that number is divisible by 4 or 5 then append that number in a list and print \n",
    "that list."
   ]
  },
  {
   "cell_type": "code",
   "execution_count": 7,
   "id": "5ab2eb89",
   "metadata": {},
   "outputs": [
    {
     "name": "stdout",
     "output_type": "stream",
     "text": [
      "[2, 4, 5, 6, 8, 10, 12, 14, 15, 16, 18, 20, 22, 24, 25, 26, 28, 30, 32, 34, 35, 36, 38, 40, 42, 44, 45, 46, 48, 50, 52, 54, 55, 56, 58, 60, 62, 64, 65, 66, 68, 70, 72, 74, 75, 76, 78, 80, 82, 84, 85, 86, 88, 90, 92, 94, 95, 96, 98, 100]\n"
     ]
    }
   ],
   "source": [
    "cubes = []\n",
    "for num in range(1, 101):\n",
    "    cube = num ** 3\n",
    "    if cube % 4 == 0 or cube % 5 == 0:\n",
    "        cubes.append(num)\n",
    "\n",
    "print(cubes)"
   ]
  },
  {
   "cell_type": "code",
   "execution_count": 6,
   "id": "0a81cca7",
   "metadata": {},
   "outputs": [
    {
     "name": "stdout",
     "output_type": "stream",
     "text": [
      "[2, 4, 5, 6, 8, 10, 12, 14, 15, 16, 18, 20, 22, 24, 25, 26, 28, 30, 32, 34, 35, 36, 38, 40, 42, 44, 45, 46, 48, 50, 52, 54, 55, 56, 58, 60, 62, 64, 65, 66, 68, 70, 72, 74, 75, 76, 78, 80, 82, 84, 85, 86, 88, 90, 92, 94, 95, 96, 98, 100]\n"
     ]
    }
   ],
   "source": [
    "cubes = []\n",
    "num = 1\n",
    "while num <= 100:\n",
    "    cube = num ** 3\n",
    "    if cube % 4 == 0 or cube % 5 == 0:\n",
    "        cubes.append(num)\n",
    "    num += 1\n",
    "\n",
    "print(cubes)\n"
   ]
  },
  {
   "cell_type": "code",
   "execution_count": 21,
   "id": "9ab73b97",
   "metadata": {},
   "outputs": [
    {
     "name": "stdout",
     "output_type": "stream",
     "text": [
      "[2, 4, 5, 6, 8, 10, 12, 14, 15, 16, 18, 20, 22, 24, 25, 26, 28, 30, 32, 34, 35, 36, 38, 40, 42, 44, 45, 46, 48, 50, 52, 54, 55, 56, 58, 60, 62, 64, 65, 66, 68, 70, 72, 74, 75, 76, 78, 80, 82, 84, 85, 86, 88, 90, 92, 94, 95, 96, 98, 100]\n"
     ]
    }
   ],
   "source": [
    "cubes = []\n",
    "num = 1\n",
    "while num <= 100:\n",
    "    cube = num ** 3\n",
    "    if cube % 4 == 0 or cube % 5 == 0:\n",
    "        cubes.append(num)\n",
    "    num += 1\n",
    "\n",
    "print(cubes)\n"
   ]
  },
  {
   "cell_type": "markdown",
   "id": "3f1586c0",
   "metadata": {},
   "source": [
    "##### Q5.  Write a program to filter count vowels in the below-given string. string = \"I want to become a data scientist\""
   ]
  },
  {
   "cell_type": "code",
   "execution_count": 22,
   "id": "1ef150c5",
   "metadata": {},
   "outputs": [
    {
     "name": "stdout",
     "output_type": "stream",
     "text": [
      "Number of vowels: 12\n"
     ]
    }
   ],
   "source": [
    "string = \"I want to become a data scientist\"\n",
    "vowels = \"aeiouAEIOU\"\n",
    "\n",
    "count = 0\n",
    "for char in string:\n",
    "    if char in vowels:\n",
    "        count += 1\n",
    "\n",
    "print(\"Number of vowels:\", count)"
   ]
  }
 ],
 "metadata": {
  "kernelspec": {
   "display_name": "Python 3 (ipykernel)",
   "language": "python",
   "name": "python3"
  },
  "language_info": {
   "codemirror_mode": {
    "name": "ipython",
    "version": 3
   },
   "file_extension": ".py",
   "mimetype": "text/x-python",
   "name": "python",
   "nbconvert_exporter": "python",
   "pygments_lexer": "ipython3",
   "version": "3.9.13"
  }
 },
 "nbformat": 4,
 "nbformat_minor": 5
}
